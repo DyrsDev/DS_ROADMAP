{
 "cells": [
  {
   "cell_type": "code",
   "execution_count": 2,
   "id": "ab69bf7b",
   "metadata": {},
   "outputs": [],
   "source": [
    "import pandas as pd\n",
    "import numpy as np"
   ]
  },
  {
   "cell_type": "markdown",
   "id": "6b98c44b",
   "metadata": {},
   "source": [
    "# Estadistica Descriptiva"
   ]
  },
  {
   "cell_type": "markdown",
   "id": "36819c8b",
   "metadata": {},
   "source": [
    "Es la rama de la estadística que resume, organiza y presenta datos de manera comprensible. No busca sacar conclusiones generales, sino describir lo que muestran los datos. Incluye tablas, gráficos y medidas numéricas como las de tendencia central y dispersión.\n"
   ]
  },
  {
   "cell_type": "markdown",
   "id": "44836ad3",
   "metadata": {},
   "source": [
    "##  Medidas de tendencia centra"
   ]
  },
  {
   "cell_type": "markdown",
   "id": "a17a4a6b",
   "metadata": {},
   "source": [
    "Son valores que representan el centro o punto típico de un conjunto de datos. Las principales son:\n",
    "- Media: el promedio aritmético.\n",
    "- Mediana: el valor que divide los datos ordenados en dos partes iguales.(En caso que tengamos elementos par sacas el promedio de los elementos ubicados a la mitad)\n",
    "- Moda: el valor que más se repite.\n",
    "\n",
    "Estas medidas ayudan a entender “dónde se concentran” los datos.\n"
   ]
  },
  {
   "cell_type": "code",
   "execution_count": 27,
   "id": "a001075b",
   "metadata": {},
   "outputs": [
    {
     "name": "stdout",
     "output_type": "stream",
     "text": [
      "Dataset: [ 5 26 10 34 26 42 36 23 30 35 36 49 30 34 18 29 21 28  2 32]\n",
      "Dataset Ordenado: [ 2  5 10 18 21 23 26 26 28 29 30 30 32 34 34 35 36 36 42 49]\n",
      "Mean: 27.3\n",
      "Median: 29.5\n",
      "Mode: 26\n",
      "Standard Deviation: 11.428473213863695\n"
     ]
    }
   ],
   "source": [
    "from statistics import mode\n",
    "dataset = np.random.randint(1,50,20)\n",
    "mean = sum(dataset) / len(dataset)\n",
    "median = np.median(dataset)\n",
    "mode = mode(dataset)\n",
    "print(\"Dataset:\", dataset)\n",
    "dataset.sort()\n",
    "print(\"Dataset Ordenado:\", dataset) #dataset ordenado\n",
    "print(\"Mean:\", mean) #mean(promedio)\n",
    "print(\"Median:\", median) #mediana\n",
    "print(\"Mode:\", mode) #moda\n",
    "print(\"Standard Deviation:\", np.std(dataset)) #desviación estándar"
   ]
  },
  {
   "cell_type": "markdown",
   "id": "017ab5d4",
   "metadata": {},
   "source": [
    "## Medidas de dispersión"
   ]
  },
  {
   "cell_type": "markdown",
   "id": "6e146ddb",
   "metadata": {},
   "source": [
    "Indican qué tan dispersos o agrupados están los datos respecto a una medida central (como la media). Las más comunes son:\n",
    "- Rango: diferencia entre el valor máximo y mínimo.\n",
    "- Varianza: promedio de las desviaciones al cuadrado respecto a la media.\n",
    "- Desviación estándar: raíz cuadrada de la varianza, muy usada por su interpretación directa.\n",
    "- Rango intercuartílico: mide la dispersión del 50% central de los datos.\n",
    "Estas medidas complementan a las de tendencia central, mostrando si los datos están muy concentrados o muy dispersos."
   ]
  },
  {
   "cell_type": "code",
   "execution_count": null,
   "id": "5a62b8a7",
   "metadata": {},
   "outputs": [],
   "source": []
  }
 ],
 "metadata": {
  "kernelspec": {
   "display_name": "Python 3",
   "language": "python",
   "name": "python3"
  },
  "language_info": {
   "codemirror_mode": {
    "name": "ipython",
    "version": 3
   },
   "file_extension": ".py",
   "mimetype": "text/x-python",
   "name": "python",
   "nbconvert_exporter": "python",
   "pygments_lexer": "ipython3",
   "version": "3.13.4"
  }
 },
 "nbformat": 4,
 "nbformat_minor": 5
}
